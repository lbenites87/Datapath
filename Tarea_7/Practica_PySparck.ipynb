{
 "cells": [
  {
   "cell_type": "markdown",
   "metadata": {
    "application/vnd.databricks.v1+cell": {
     "cellMetadata": {},
     "inputWidgets": {},
     "nuid": "3bb177a1-5e82-43be-a416-8366934250e0",
     "showTitle": false,
     "tableResultSettingsMap": {},
     "title": ""
    }
   },
   "source": [
    "# Importar las bibliotecas necesarias\n",
    "# Crear una instancia de SparkSession\n",
    "\n",
    "#Consignas:\n",
    "# 1. Crear un DataFrame con datos de personas, que incluya nombre, edad y ciudad de residencia.\n",
    "\n",
    "Utilizar el siguiente esquema:\n",
    "data = [(\"Alice\", 25, \"New York\"),\n",
    "        (\"Bob\", 30, \"Los Angeles\"),\n",
    "        (\"Charlie\", 22, \"Chicago\")]\n",
    "\n",
    "\n",
    "# 2. Mostrar solo los nombres de las personas del DataFrame.\n",
    "\n",
    "# 3. Filtrar personas cuya edad sea mayor o igual a 25.\n",
    "\n",
    "# 4. Agregar una nueva columna \"Pais\" con un valor constante para todas las filas.\n",
    "\n",
    "# 5. Calcular el promedio de edad de todas las personas.\n",
    "\n",
    "# 6. Ordenar el DataFrame por edad en orden descendente.\n",
    "\n",
    "# 7. Agrupar por ciudad y calcular la cantidad de personas en cada ciudad.\n",
    "\n",
    "# 8. Renombrar la columna \"Nombre\" a \"NombreCompleto\".\n",
    "\n",
    "# 9. Eliminar la columna \"Edad\" del DataFrame.\n",
    "\n",
    "# 10. Realizar una consulta SQL en el DataFrame para seleccionar personas mayores de 20 años.\n",
    "\n",
    "# 11. Calcular la suma total de todas las edades.\n",
    "\n",
    "# 12. Calcular la edad mínima y máxima de todas las personas.\n",
    "\n",
    "# 13. Filtrar personas cuya ciudad de residencia sea \"Chicago\" y edad sea menor de 30.\n",
    "\n",
    "# 14. Agregar una nueva columna \"EdadDuplicada\" que contenga el doble de la edad.\n",
    "\n",
    "# 15. Convertir todas las edades en años a meses.\n",
    "\n",
    "# 16. Contar el número total de personas en el DataFrame.\n",
    "\n",
    "# 17. Filtrar personas cuya edad sea un número par.\n",
    "\n",
    "# 18. Calcular la cantidad de personas por rango de edades (0-20, 21-40, 41-60, 61+).\n",
    "\n",
    "# 19. Contar cuántas personas tienen el mismo nombre.\n",
    "\n",
    "# 20. Concatenar las columnas \"Nombre\" y \"Ciudad\" en una nueva columna llamada \"InformacionPersonal\"."
   ]
  },
  {
   "cell_type": "code",
   "execution_count": 0,
   "metadata": {
    "application/vnd.databricks.v1+cell": {
     "cellMetadata": {
      "byteLimit": 2048000,
      "rowLimit": 10000
     },
     "inputWidgets": {},
     "nuid": "0c736fca-059d-468f-81ad-5d46881e566f",
     "showTitle": false,
     "tableResultSettingsMap": {},
     "title": ""
    }
   },
   "outputs": [
    {
     "output_type": "stream",
     "name": "stdout",
     "output_type": "stream",
     "text": [
      "+-------+----+-----------+\n| Nombre|Edad|     Ciudad|\n+-------+----+-----------+\n|  Alice|  25|   New York|\n|    Bob|  19|Los Angeles|\n|  Diana|  40|Los Angeles|\n|    Eve|  23|   New York|\n|  Frank|  34|    Chicago|\n|  Grace|  36|    Houston|\n|  Henry|  30|    Florida|\n| Isabel|  30|      Miami|\n|   Jack|  18|    Seattle|\n|  Diana|  24|    Orlando|\n|  Frank|  46|     Boston|\n|  Pedro|  28| New Jersey|\n|  Clark|  65| Washington|\n|Charlie|  22|    Chicago|\n+-------+----+-----------+\n\n"
     ]
    }
   ],
   "source": [
    "# 1. Crear un DataFrame con datos de personas, que incluya nombre, edad y ciudad de residencia.\n",
    "data = [(\"Alice\", 25, \"New York\"),\n",
    "        (\"Bob\", 19, \"Los Angeles\"),\n",
    "        (\"Diana\", 40, \"Los Angeles\"),\n",
    "        (\"Eve\", 23, \"New York\"),\n",
    "        (\"Frank\", 34, \"Chicago\"),\n",
    "        (\"Grace\", 36, \"Houston\"),\n",
    "        (\"Henry\", 30, \"Florida\"),\n",
    "        (\"Isabel\", 30, \"Miami\"),\n",
    "        (\"Jack\", 18, \"Seattle\"),\n",
    "        (\"Diana\", 24, \"Orlando\"),\n",
    "        (\"Frank\", 46, \"Boston\"),\n",
    "        (\"Pedro\", 28, \"New Jersey\"), \n",
    "        (\"Clark\", 65, \"Washington\"),\n",
    "        (\"Charlie\", 22, \"Chicago\")]\n",
    "\n",
    "columns = [\"Nombre\", \"Edad\", \"Ciudad\"]\n",
    "\n",
    "df = spark.createDataFrame(data, schema=columns)\n",
    "df.show()"
   ]
  },
  {
   "cell_type": "code",
   "execution_count": 0,
   "metadata": {
    "application/vnd.databricks.v1+cell": {
     "cellMetadata": {
      "byteLimit": 2048000,
      "rowLimit": 10000
     },
     "inputWidgets": {},
     "nuid": "873dd948-4c45-4811-884c-92e89f153af3",
     "showTitle": false,
     "tableResultSettingsMap": {},
     "title": ""
    }
   },
   "outputs": [
    {
     "output_type": "stream",
     "name": "stdout",
     "output_type": "stream",
     "text": [
      "+-------+\n| Nombre|\n+-------+\n|  Alice|\n|    Bob|\n|  Diana|\n|    Eve|\n|  Frank|\n|  Grace|\n|  Henry|\n| Isabel|\n|   Jack|\n|  Diana|\n|  Frank|\n|  Pedro|\n|  Clark|\n|Charlie|\n+-------+\n\n"
     ]
    }
   ],
   "source": [
    "# 2. Mostrar solo los nombres de las personas del DataFrame.\n",
    "\n",
    "df.select(\"Nombre\").show()"
   ]
  },
  {
   "cell_type": "code",
   "execution_count": 0,
   "metadata": {
    "application/vnd.databricks.v1+cell": {
     "cellMetadata": {
      "byteLimit": 2048000,
      "rowLimit": 10000
     },
     "inputWidgets": {},
     "nuid": "49f7d8a5-ba67-46dd-970b-6018fd3520ef",
     "showTitle": false,
     "tableResultSettingsMap": {},
     "title": ""
    }
   },
   "outputs": [
    {
     "output_type": "stream",
     "name": "stdout",
     "output_type": "stream",
     "text": [
      "+------+----+-----------+\n|Nombre|Edad|     Ciudad|\n+------+----+-----------+\n| Alice|  25|   New York|\n|   Bob|  30|Los Angeles|\n| Diana|  40|Los Angeles|\n| Frank|  34|    Chicago|\n| Grace|  36|    Houston|\n| Henry|  30|    Florida|\n|Isabel|  30|      Miami|\n|  Jack|  45|    Seattle|\n| Frank|  46|     Boston|\n| Pedro|  28| New Jersey|\n+------+----+-----------+\n\n"
     ]
    }
   ],
   "source": [
    "# 3. Filtrar personas cuya edad sea mayor o igual a 25.\n",
    "df.filter(df[\"Edad\"] >= 25).show()"
   ]
  },
  {
   "cell_type": "code",
   "execution_count": 0,
   "metadata": {
    "application/vnd.databricks.v1+cell": {
     "cellMetadata": {
      "byteLimit": 2048000,
      "rowLimit": 10000
     },
     "inputWidgets": {},
     "nuid": "a4602b4e-4b2b-4154-83c7-8f4016241a7d",
     "showTitle": false,
     "tableResultSettingsMap": {},
     "title": ""
    }
   },
   "outputs": [
    {
     "output_type": "stream",
     "name": "stdout",
     "output_type": "stream",
     "text": [
      "+-------+----+-----------+----+\n| Nombre|Edad|     Ciudad|Pais|\n+-------+----+-----------+----+\n|  Alice|  25|   New York| USA|\n|    Bob|  30|Los Angeles| USA|\n|  Diana|  40|Los Angeles| USA|\n|    Eve|  23|   New York| USA|\n|  Frank|  34|    Chicago| USA|\n|  Grace|  36|    Houston| USA|\n|  Henry|  30|    Florida| USA|\n| Isabel|  30|      Miami| USA|\n|   Jack|  45|    Seattle| USA|\n|  Diana|  24|    Orlando| USA|\n|  Frank|  46|     Boston| USA|\n|  Pedro|  28| New Jersey| USA|\n|  Clark|  23| Washington| USA|\n|Charlie|  22|    Chicago| USA|\n+-------+----+-----------+----+\n\n"
     ]
    }
   ],
   "source": [
    "# 4. Agregar una nueva columna \"Pais\" con un valor constante para todas las filas.\n",
    "from pyspark.sql.functions import lit\n",
    "\n",
    "df = df.withColumn(\"Pais\", lit(\"USA\"))\n",
    "df.show()\n"
   ]
  },
  {
   "cell_type": "code",
   "execution_count": 0,
   "metadata": {
    "application/vnd.databricks.v1+cell": {
     "cellMetadata": {
      "byteLimit": 2048000,
      "rowLimit": 10000
     },
     "inputWidgets": {},
     "nuid": "3a16bd5a-992a-40cf-acc6-e79b9665c605",
     "showTitle": false,
     "tableResultSettingsMap": {},
     "title": ""
    }
   },
   "outputs": [
    {
     "output_type": "stream",
     "name": "stdout",
     "output_type": "stream",
     "text": [
      "+------------------+\n|      PromedioEdad|\n+------------------+\n|31.142857142857142|\n+------------------+\n\n"
     ]
    }
   ],
   "source": [
    "# 5. Calcular el promedio de edad de todas las personas.\n",
    "from pyspark.sql.functions import avg\n",
    "\n",
    "df.select(avg(\"Edad\").alias(\"PromedioEdad\")).show()\n"
   ]
  },
  {
   "cell_type": "code",
   "execution_count": 0,
   "metadata": {
    "application/vnd.databricks.v1+cell": {
     "cellMetadata": {
      "byteLimit": 2048000,
      "rowLimit": 10000
     },
     "inputWidgets": {},
     "nuid": "23f67508-6d51-4a39-ae43-45e3cc276195",
     "showTitle": false,
     "tableResultSettingsMap": {},
     "title": ""
    }
   },
   "outputs": [
    {
     "output_type": "stream",
     "name": "stdout",
     "output_type": "stream",
     "text": [
      "+-------+----+-----------+----+\n| Nombre|Edad|     Ciudad|Pais|\n+-------+----+-----------+----+\n|  Frank|  46|     Boston| USA|\n|   Jack|  45|    Seattle| USA|\n|  Diana|  40|Los Angeles| USA|\n|  Grace|  36|    Houston| USA|\n|  Frank|  34|    Chicago| USA|\n|    Bob|  30|Los Angeles| USA|\n|  Henry|  30|    Florida| USA|\n| Isabel|  30|      Miami| USA|\n|  Pedro|  28| New Jersey| USA|\n|  Alice|  25|   New York| USA|\n|  Diana|  24|    Orlando| USA|\n|    Eve|  23|   New York| USA|\n|  Clark|  23| Washington| USA|\n|Charlie|  22|    Chicago| USA|\n+-------+----+-----------+----+\n\n"
     ]
    }
   ],
   "source": [
    "# 6. Ordenar el DataFrame por edad en orden descendente.\n",
    "df.orderBy(df[\"Edad\"].desc()).show()"
   ]
  },
  {
   "cell_type": "code",
   "execution_count": 0,
   "metadata": {
    "application/vnd.databricks.v1+cell": {
     "cellMetadata": {
      "byteLimit": 2048000,
      "rowLimit": 10000
     },
     "inputWidgets": {},
     "nuid": "d466a143-82c4-4cde-9612-0ed0a6f35471",
     "showTitle": false,
     "tableResultSettingsMap": {},
     "title": ""
    }
   },
   "outputs": [
    {
     "output_type": "stream",
     "name": "stdout",
     "output_type": "stream",
     "text": [
      "+-----------+----------------+\n|     Ciudad|CantidadPersonas|\n+-----------+----------------+\n|   New York|               2|\n|Los Angeles|               2|\n|    Chicago|               2|\n|    Florida|               1|\n|    Houston|               1|\n|      Miami|               1|\n|    Orlando|               1|\n|    Seattle|               1|\n| New Jersey|               1|\n|     Boston|               1|\n| Washington|               1|\n+-----------+----------------+\n\n"
     ]
    }
   ],
   "source": [
    "# 7. Agrupar por ciudad y calcular la cantidad de personas en cada ciudad.\n",
    "from pyspark.sql.functions import count\n",
    "\n",
    "df.groupBy(\"Ciudad\").agg(count(\"*\").alias(\"CantidadPersonas\")).show()"
   ]
  },
  {
   "cell_type": "code",
   "execution_count": 0,
   "metadata": {
    "application/vnd.databricks.v1+cell": {
     "cellMetadata": {
      "byteLimit": 2048000,
      "rowLimit": 10000
     },
     "inputWidgets": {},
     "nuid": "48e3bcfe-4c2f-4d50-b7fc-3f32c73e4eb2",
     "showTitle": false,
     "tableResultSettingsMap": {},
     "title": ""
    }
   },
   "outputs": [
    {
     "output_type": "stream",
     "name": "stdout",
     "output_type": "stream",
     "text": [
      "+--------------+----+-----------+---------+\n|NombreCompleto|Edad|     Ciudad|RangoEdad|\n+--------------+----+-----------+---------+\n|         Alice|  25|   New York|    21-40|\n|           Bob|  19|Los Angeles|     0-20|\n|         Diana|  40|Los Angeles|    21-40|\n|           Eve|  23|   New York|    21-40|\n|         Frank|  34|    Chicago|    21-40|\n|         Grace|  36|    Houston|    21-40|\n|         Henry|  30|    Florida|    21-40|\n|        Isabel|  30|      Miami|    21-40|\n|          Jack|  18|    Seattle|     0-20|\n|         Diana|  24|    Orlando|    21-40|\n|         Frank|  46|     Boston|    41-60|\n|         Pedro|  28| New Jersey|    21-40|\n|         Clark|  65| Washington|      61+|\n|       Charlie|  22|    Chicago|    21-40|\n+--------------+----+-----------+---------+\n\n"
     ]
    }
   ],
   "source": [
    "# 8. Renombrar la columna \"Nombre\" a \"NombreCompleto\".\n",
    "df = df.withColumnRenamed(\"Nombre\", \"NombreCompleto\")\n",
    "df.show()"
   ]
  },
  {
   "cell_type": "code",
   "execution_count": 0,
   "metadata": {
    "application/vnd.databricks.v1+cell": {
     "cellMetadata": {
      "byteLimit": 2048000,
      "rowLimit": 10000
     },
     "inputWidgets": {},
     "nuid": "505c096e-2e03-490a-afa2-d79bc95026f2",
     "showTitle": false,
     "tableResultSettingsMap": {},
     "title": ""
    }
   },
   "outputs": [
    {
     "output_type": "stream",
     "name": "stdout",
     "output_type": "stream",
     "text": [
      "+--------------+-----------+----+\n|NombreCompleto|     Ciudad|Pais|\n+--------------+-----------+----+\n|         Alice|   New York| USA|\n|           Bob|Los Angeles| USA|\n|         Diana|Los Angeles| USA|\n|           Eve|   New York| USA|\n|         Frank|    Chicago| USA|\n|         Grace|    Houston| USA|\n|         Henry|    Florida| USA|\n|        Isabel|      Miami| USA|\n|          Jack|    Seattle| USA|\n|         Diana|    Orlando| USA|\n|         Frank|     Boston| USA|\n|         Pedro| New Jersey| USA|\n|         Clark| Washington| USA|\n|       Charlie|    Chicago| USA|\n+--------------+-----------+----+\n\n"
     ]
    }
   ],
   "source": [
    "# 9. Eliminar la columna \"Edad\" del DataFrame.\n",
    "df_sin_edad = df.drop(\"Edad\")\n",
    "df_sin_edad.show()"
   ]
  },
  {
   "cell_type": "code",
   "execution_count": 0,
   "metadata": {
    "application/vnd.databricks.v1+cell": {
     "cellMetadata": {
      "byteLimit": 2048000,
      "rowLimit": 10000
     },
     "inputWidgets": {},
     "nuid": "922562bd-a96f-4255-84a9-b3e26ed13749",
     "showTitle": false,
     "tableResultSettingsMap": {},
     "title": ""
    }
   },
   "outputs": [
    {
     "output_type": "stream",
     "name": "stdout",
     "output_type": "stream",
     "text": [
      "+-------+----+-----------+\n| Nombre|Edad|     Ciudad|\n+-------+----+-----------+\n|  Alice|  25|   New York|\n|  Diana|  40|Los Angeles|\n|    Eve|  23|   New York|\n|  Frank|  34|    Chicago|\n|  Grace|  36|    Houston|\n|  Henry|  30|    Florida|\n| Isabel|  30|      Miami|\n|  Diana|  24|    Orlando|\n|  Frank|  46|     Boston|\n|  Pedro|  28| New Jersey|\n|  Clark|  23| Washington|\n|Charlie|  22|    Chicago|\n+-------+----+-----------+\n\n"
     ]
    }
   ],
   "source": [
    "# 10. Realizar una consulta SQL en el DataFrame para seleccionar personas mayores de 20 años.\n",
    "df.createOrReplaceTempView(\"personas\")\n",
    "spark.sql(\"SELECT * FROM personas WHERE Edad > 20\").show()"
   ]
  },
  {
   "cell_type": "code",
   "execution_count": 0,
   "metadata": {
    "application/vnd.databricks.v1+cell": {
     "cellMetadata": {
      "byteLimit": 2048000,
      "rowLimit": 10000
     },
     "inputWidgets": {},
     "nuid": "02187ef5-3ebe-41c8-9470-2a3a54d42883",
     "showTitle": false,
     "tableResultSettingsMap": {},
     "title": ""
    }
   },
   "outputs": [
    {
     "output_type": "stream",
     "name": "stdout",
     "output_type": "stream",
     "text": [
      "+-------------+\n|SumaTotalEdad|\n+-------------+\n|          398|\n+-------------+\n\n"
     ]
    }
   ],
   "source": [
    "# 11. Calcular la suma total de todas las edades.\n",
    "df.selectExpr(\"sum(Edad) as SumaTotalEdad\").show()"
   ]
  },
  {
   "cell_type": "code",
   "execution_count": 0,
   "metadata": {
    "application/vnd.databricks.v1+cell": {
     "cellMetadata": {
      "byteLimit": 2048000,
      "rowLimit": 10000
     },
     "inputWidgets": {},
     "nuid": "3c19f76d-4c8d-4dbc-9e45-9ab9bb92e897",
     "showTitle": false,
     "tableResultSettingsMap": {},
     "title": ""
    }
   },
   "outputs": [
    {
     "output_type": "stream",
     "name": "stdout",
     "output_type": "stream",
     "text": [
      "+----------+----------+\n|EdadMinima|EdadMaxima|\n+----------+----------+\n|        18|        46|\n+----------+----------+\n\n"
     ]
    }
   ],
   "source": [
    "# 12. Calcular la edad mínima y máxima de todas las personas.\n",
    "from pyspark.sql.functions import min, max\n",
    "\n",
    "df.select(min(\"Edad\").alias(\"EdadMinima\"), max(\"Edad\").alias(\"EdadMaxima\")).show()"
   ]
  },
  {
   "cell_type": "code",
   "execution_count": 0,
   "metadata": {
    "application/vnd.databricks.v1+cell": {
     "cellMetadata": {
      "byteLimit": 2048000,
      "rowLimit": 10000
     },
     "inputWidgets": {},
     "nuid": "000a7638-e105-4281-a1f6-50eb375948ce",
     "showTitle": false,
     "tableResultSettingsMap": {},
     "title": ""
    }
   },
   "outputs": [
    {
     "output_type": "stream",
     "name": "stdout",
     "output_type": "stream",
     "text": [
      "+-------+----+-------+\n| Nombre|Edad| Ciudad|\n+-------+----+-------+\n|Charlie|  22|Chicago|\n+-------+----+-------+\n\n"
     ]
    }
   ],
   "source": [
    "# 13. Filtrar personas cuya ciudad de residencia sea \"Chicago\" y edad sea menor de 30.\n",
    "df.filter((df[\"Ciudad\"] == \"Chicago\") & (df[\"Edad\"] < 30)).show()"
   ]
  },
  {
   "cell_type": "code",
   "execution_count": 0,
   "metadata": {
    "application/vnd.databricks.v1+cell": {
     "cellMetadata": {
      "byteLimit": 2048000,
      "rowLimit": 10000
     },
     "inputWidgets": {},
     "nuid": "6c111f36-fda0-4257-a059-83d9e3c59f08",
     "showTitle": false,
     "tableResultSettingsMap": {},
     "title": ""
    }
   },
   "outputs": [
    {
     "output_type": "execute_result",
     "data": {
      "text/plain": [
       "<function __main__.edad_doble(Edad)>"
      ]
     },
     "execution_count": 59,
     "metadata": {},
     "output_type": "execute_result"
    }
   ],
   "source": [
    "\n",
    "def edad_doble(Edad):\n",
    "    return Edad * 2\n",
    "\n",
    "spark.udf.register(\"funcionUDF\", edad_doble)\n",
    "\n",
    " "
   ]
  },
  {
   "cell_type": "code",
   "execution_count": 0,
   "metadata": {
    "application/vnd.databricks.v1+cell": {
     "cellMetadata": {
      "byteLimit": 2048000,
      "rowLimit": 10000
     },
     "inputWidgets": {},
     "nuid": "28326213-d29a-456f-bece-3d17f83975ba",
     "showTitle": false,
     "tableResultSettingsMap": {},
     "title": ""
    }
   },
   "outputs": [
    {
     "output_type": "stream",
     "name": "stdout",
     "output_type": "stream",
     "text": [
      "root\n |-- Nombre: string (nullable = true)\n |-- Edad: long (nullable = true)\n |-- Ciudad: string (nullable = true)\n\n"
     ]
    }
   ],
   "source": [
    "df.printSchema()\n"
   ]
  },
  {
   "cell_type": "code",
   "execution_count": 0,
   "metadata": {
    "application/vnd.databricks.v1+cell": {
     "cellMetadata": {
      "byteLimit": 2048000,
      "rowLimit": 10000
     },
     "inputWidgets": {},
     "nuid": "6dd0431e-f469-46e8-bcd5-43478b2ce14e",
     "showTitle": false,
     "tableResultSettingsMap": {},
     "title": ""
    }
   },
   "outputs": [
    {
     "output_type": "stream",
     "name": "stdout",
     "output_type": "stream",
     "text": [
      "root\n |-- Nombre: string (nullable = true)\n |-- Edad: integer (nullable = true)\n |-- Ciudad: string (nullable = true)\n\n"
     ]
    }
   ],
   "source": [
    "df.withColumn(\"Edad\",df['Edad'].cast(\"Integer\")).printSchema()"
   ]
  },
  {
   "cell_type": "code",
   "execution_count": 0,
   "metadata": {
    "application/vnd.databricks.v1+cell": {
     "cellMetadata": {
      "byteLimit": 2048000,
      "rowLimit": 10000
     },
     "inputWidgets": {},
     "nuid": "d6896ee8-27db-4e16-a39f-67eb149b4ebf",
     "showTitle": false,
     "tableResultSettingsMap": {},
     "title": ""
    }
   },
   "outputs": [
    {
     "output_type": "stream",
     "name": "stdout",
     "output_type": "stream",
     "text": [
      "+-------+----+-----------+---------+\n| Nombre|Edad|     Ciudad|EdadDOble|\n+-------+----+-----------+---------+\n|  Alice|  25|   New York|       50|\n|    Bob|  19|Los Angeles|       38|\n|  Diana|  40|Los Angeles|       80|\n|    Eve|  23|   New York|       46|\n|  Frank|  34|    Chicago|       68|\n|  Grace|  36|    Houston|       72|\n|  Henry|  30|    Florida|       60|\n| Isabel|  30|      Miami|       60|\n|   Jack|  18|    Seattle|       36|\n|  Diana|  24|    Orlando|       48|\n|  Frank|  46|     Boston|       92|\n|  Pedro|  28| New Jersey|       56|\n|  Clark|  23| Washington|       46|\n|Charlie|  22|    Chicago|       44|\n+-------+----+-----------+---------+\n\n"
     ]
    }
   ],
   "source": [
    "# 14. Agregar una nueva columna \"EdadDuplicada\" que contenga el doble de la edad.\n",
    "from pyspark.sql.functions import col, when\n",
    "newdf = df.withColumn(\"EdadDOble\", edad_doble(col(\"Edad\")))\n",
    "newdf.show()"
   ]
  },
  {
   "cell_type": "code",
   "execution_count": 0,
   "metadata": {
    "application/vnd.databricks.v1+cell": {
     "cellMetadata": {
      "byteLimit": 2048000,
      "rowLimit": 10000
     },
     "inputWidgets": {},
     "nuid": "ff324a90-ca17-4c18-a7b3-d792e23c7b86",
     "showTitle": false,
     "tableResultSettingsMap": {},
     "title": ""
    }
   },
   "outputs": [
    {
     "output_type": "stream",
     "name": "stdout",
     "output_type": "stream",
     "text": [
      "+-------+----+-----------+-----------+\n| Nombre|Edad|     Ciudad|EdadEnMeses|\n+-------+----+-----------+-----------+\n|  Alice|  25|   New York|        300|\n|    Bob|  19|Los Angeles|        228|\n|  Diana|  40|Los Angeles|        480|\n|    Eve|  23|   New York|        276|\n|  Frank|  34|    Chicago|        408|\n|  Grace|  36|    Houston|        432|\n|  Henry|  30|    Florida|        360|\n| Isabel|  30|      Miami|        360|\n|   Jack|  18|    Seattle|        216|\n|  Diana|  24|    Orlando|        288|\n|  Frank|  46|     Boston|        552|\n|  Pedro|  28| New Jersey|        336|\n|  Clark|  23| Washington|        276|\n|Charlie|  22|    Chicago|        264|\n+-------+----+-----------+-----------+\n\n"
     ]
    }
   ],
   "source": [
    "# 15. Convertir todas las edades en años a meses.\n",
    "df = df.withColumn(\"EdadEnMeses\", df[\"Edad\"] * 12)\n",
    "df.show()"
   ]
  },
  {
   "cell_type": "code",
   "execution_count": 0,
   "metadata": {
    "application/vnd.databricks.v1+cell": {
     "cellMetadata": {
      "byteLimit": 2048000,
      "rowLimit": 10000
     },
     "inputWidgets": {},
     "nuid": "15a3ca6d-dddd-4de5-82f5-5604d857e2ed",
     "showTitle": false,
     "tableResultSettingsMap": {},
     "title": ""
    }
   },
   "outputs": [
    {
     "output_type": "stream",
     "name": "stdout",
     "output_type": "stream",
     "text": [
      "Total de personas: 14\n"
     ]
    }
   ],
   "source": [
    "# 16. Contar el número total de personas en el DataFrame.\n",
    "print(f\"Total de personas: {df.count()}\")"
   ]
  },
  {
   "cell_type": "code",
   "execution_count": 0,
   "metadata": {
    "application/vnd.databricks.v1+cell": {
     "cellMetadata": {
      "byteLimit": 2048000,
      "rowLimit": 10000
     },
     "inputWidgets": {},
     "nuid": "0e378a9b-630a-453c-9922-ddbe1507c426",
     "showTitle": false,
     "tableResultSettingsMap": {},
     "title": ""
    }
   },
   "outputs": [
    {
     "output_type": "stream",
     "name": "stdout",
     "output_type": "stream",
     "text": [
      "+-------+----+-----------+-----------+\n| Nombre|Edad|     Ciudad|EdadEnMeses|\n+-------+----+-----------+-----------+\n|  Diana|  40|Los Angeles|        480|\n|  Frank|  34|    Chicago|        408|\n|  Grace|  36|    Houston|        432|\n|  Henry|  30|    Florida|        360|\n| Isabel|  30|      Miami|        360|\n|   Jack|  18|    Seattle|        216|\n|  Diana|  24|    Orlando|        288|\n|  Frank|  46|     Boston|        552|\n|  Pedro|  28| New Jersey|        336|\n|Charlie|  22|    Chicago|        264|\n+-------+----+-----------+-----------+\n\n"
     ]
    }
   ],
   "source": [
    "# 17. Filtrar personas cuya edad sea un número par.\n",
    "df.filter(df[\"Edad\"] % 2 == 0).show()"
   ]
  },
  {
   "cell_type": "code",
   "execution_count": 0,
   "metadata": {
    "application/vnd.databricks.v1+cell": {
     "cellMetadata": {
      "byteLimit": 2048000,
      "rowLimit": 10000
     },
     "inputWidgets": {},
     "nuid": "d35e5228-03eb-4acd-b52e-d5d0660ac191",
     "showTitle": false,
     "tableResultSettingsMap": {},
     "title": ""
    }
   },
   "outputs": [
    {
     "output_type": "stream",
     "name": "stdout",
     "output_type": "stream",
     "text": [
      "+---------+-----+\n|RangoEdad|count|\n+---------+-----+\n|    21-40|   10|\n|     0-20|    2|\n|    41-60|    1|\n|      61+|    1|\n+---------+-----+\n\n"
     ]
    }
   ],
   "source": [
    "# 18. Calcular la cantidad de personas por rango de edades (0-20, 21-40, 41-60, 61+).\n",
    "from pyspark.sql.functions import when\n",
    "\n",
    "df = df.withColumn(\"RangoEdad\", when(df[\"Edad\"] <= 20, \"0-20\")\n",
    "                                 .when(df[\"Edad\"] <= 40, \"21-40\")\n",
    "                                 .when(df[\"Edad\"] <= 60, \"41-60\")\n",
    "                                 .otherwise(\"61+\"))\n",
    "\n",
    "df.groupBy(\"RangoEdad\").count().show()"
   ]
  },
  {
   "cell_type": "code",
   "execution_count": 0,
   "metadata": {
    "application/vnd.databricks.v1+cell": {
     "cellMetadata": {
      "byteLimit": 2048000,
      "rowLimit": 10000
     },
     "inputWidgets": {},
     "nuid": "b8ac0c99-5be8-47b1-b192-ce1285ed59d4",
     "showTitle": false,
     "tableResultSettingsMap": {},
     "title": ""
    }
   },
   "outputs": [
    {
     "output_type": "stream",
     "name": "stdout",
     "output_type": "stream",
     "text": [
      "+--------------+-----+\n|NombreCompleto|count|\n+--------------+-----+\n|         Alice|    1|\n|         Diana|    2|\n|           Bob|    1|\n|           Eve|    1|\n|         Frank|    2|\n|         Grace|    1|\n|         Henry|    1|\n|        Isabel|    1|\n|          Jack|    1|\n|         Pedro|    1|\n|         Clark|    1|\n|       Charlie|    1|\n+--------------+-----+\n\n"
     ]
    }
   ],
   "source": [
    "# 19. Contar cuántas personas tienen el mismo nombre.\n",
    "df.groupBy(\"NombreCompleto\").count().show()"
   ]
  },
  {
   "cell_type": "code",
   "execution_count": 0,
   "metadata": {
    "application/vnd.databricks.v1+cell": {
     "cellMetadata": {
      "byteLimit": 2048000,
      "rowLimit": 10000
     },
     "inputWidgets": {},
     "nuid": "9e98eeee-6eb4-46b8-b121-f51e39bcfd62",
     "showTitle": false,
     "tableResultSettingsMap": {},
     "title": ""
    }
   },
   "outputs": [
    {
     "output_type": "stream",
     "name": "stdout",
     "output_type": "stream",
     "text": [
      "+-------------------+\n|InformacionPersonal|\n+-------------------+\n|   Alice - New York|\n|  Bob - Los Angeles|\n|Diana - Los Angeles|\n|     Eve - New York|\n|    Frank - Chicago|\n|    Grace - Houston|\n|    Henry - Florida|\n|     Isabel - Miami|\n|     Jack - Seattle|\n|    Diana - Orlando|\n|     Frank - Boston|\n| Pedro - New Jersey|\n| Clark - Washington|\n|  Charlie - Chicago|\n+-------------------+\n\n"
     ]
    }
   ],
   "source": [
    "\n",
    "# 20. Concatenar las columnas \"Nombre\" y \"Ciudad\" en una nueva columna llamada \"InformacionPersonal\".\n",
    "from pyspark.sql.functions import concat_ws\n",
    "\n",
    "df = df.withColumn(\"InformacionPersonal\", concat_ws(\" - \", df[\"NombreCompleto\"], df[\"Ciudad\"]))\n",
    "df.select(\"InformacionPersonal\").show()"
   ]
  }
 ],
 "metadata": {
  "application/vnd.databricks.v1+notebook": {
   "computePreferences": null,
   "dashboards": [],
   "environmentMetadata": {
    "base_environment": "",
    "environment_version": "2"
   },
   "inputWidgetPreferences": null,
   "language": "python",
   "notebookMetadata": {
    "pythonIndentUnit": 4
   },
   "notebookName": "Practica_PySparck",
   "widgets": {}
  },
  "language_info": {
   "name": "python"
  }
 },
 "nbformat": 4,
 "nbformat_minor": 0
}