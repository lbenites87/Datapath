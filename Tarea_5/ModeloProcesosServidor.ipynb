{
 "cells": [
  {
   "cell_type": "markdown",
   "id": "014c0d1f",
   "metadata": {},
   "source": [
    "### Tarea: Creación de un Modelo de Clasificación para Predecir Problemas en Procesos de un Servidor\n",
    "\n",
    "#### Objetivo\n",
    "Desarrollar un modelo de clasificación que pueda predecir si un proceso en ejecución en un servidor causará problemas, basándose en datos históricos de los procesos. Este modelo ayudará en la detección temprana de procesos potencialmente problemáticos, permitiendo tomar acciones preventivas para asegurar la estabilidad y el rendimiento del servidor.\n",
    "\n",
    "#### Datos\n",
    "El conjunto de datos proporcionado incluye las siguientes características para cada proceso en el servidor:\n",
    "\n",
    "- `ID_Proceso`: Identificador único del proceso.\n",
    "- `Uso_CPU`: Porcentaje del CPU utilizado por el proceso.\n",
    "- `Uso_Memoria`: Porcentaje de memoria utilizada por el proceso.\n",
    "- `Numero_Hilos`: Número de hilos del proceso.\n",
    "- `Tiempo_Ejecucion`: Tiempo de ejecución del proceso en horas.\n",
    "- `Numero_Errores`: Número de errores generados por el proceso en las últimas 24 horas.\n",
    "- `Tipo_Proceso`: Categoría del proceso (Servicio, Aplicación, Sistema).\n",
    "\n",
    "La variable objetivo, `Estado`, indica si un proceso es problemático (1) o no (0), basada en el uso de recursos, número de errores, tipo de proceso, y otros factores relevantes.\n",
    "\n",
    "#### Tareas a Realizar\n",
    "\n",
    "1. **Análisis Exploratorio de Datos (EDA)**: Realice un análisis preliminar para entender la distribución y las características de los datos. Esto incluye verificar valores faltantes, la distribución de las variables numéricas, y la frecuencia de las categorías en variables categóricas.\n",
    "\n",
    "2. **Preprocesamiento de Datos**:\n",
    "   - Limpieza: Maneje valores faltantes y elimine duplicados si los hay.\n",
    "   - Codificación de variables categóricas: Utilice técnicas como One-Hot Encoding para convertir `Tipo_Proceso` en variables numéricas.\n",
    "   - Escalado de características: Normalice o escale las características numéricas para que tengan el mismo rango de valores, lo cual es importante para algunos modelos de clasificación.\n",
    "\n",
    "3. **Selección y División del Conjunto de Datos**: Divida el conjunto de datos en entrenamiento, validación y prueba para evaluar la efectividad del modelo.\n",
    "\n",
    "4. **Construcción y Evaluación de Modelos**:\n",
    "   - Pruebe diferentes algoritmos de clasificación (por ejemplo, Regresión Logística, Árboles de Decisión, Bosques Aleatorios, y Máquinas de Soporte Vectorial) para encontrar el más adecuado.\n",
    "   - Utilice validación cruzada para optimizar los hiperparámetros y evaluar la robustez del modelo.\n",
    "   - Evalúe el modelo final utilizando el conjunto de prueba y métricas adecuadas (precisión, recall, puntuación F1, y curva ROC).\n",
    "\n",
    "5. **Interpretación de Resultados y Conclusiones**: Interprete los resultados del modelo en el contexto del problema. Identifique las características más importantes que influyen en la predicción de procesos problemáticos y discuta cómo se puede utilizar el modelo en un entorno de producción.\n",
    "\n",
    "6. **Reporte**: Prepare un informe detallado que cubra todos los pasos realizados, desde el EDA hasta la interpretación de los resultados, incluyendo cualquier insight relevante obtenido durante el proceso.\n",
    "\n",
    "#### Entrega\n",
    "La tarea final consistirá en un Jupyter Notebook que contenga todo el código utilizado para el análisis, preprocesamiento de datos, modelado, y evaluación, junto con un reporte escrito (dentro del mismo notebook o como un documento separado) que resuma los hallazgos y las recomendaciones basadas en el modelo desarrollado."
   ]
  },
  {
   "cell_type": "markdown",
   "id": "48e5b0b1",
   "metadata": {},
   "source": [
    " ##### 1. Importación de Librerías"
   ]
  },
  {
   "cell_type": "code",
   "execution_count": 1,
   "id": "6fc9d9ea",
   "metadata": {},
   "outputs": [],
   "source": [
    "import pandas as pd\n",
    "import numpy as np\n",
    "import matplotlib.pyplot as plt\n",
    "import seaborn as sns\n",
    "\n",
    "from sklearn.model_selection import train_test_split, GridSearchCV\n",
    "from sklearn.preprocessing import StandardScaler, OneHotEncoder\n",
    "from sklearn.compose import ColumnTransformer\n",
    "from sklearn.pipeline import Pipeline\n",
    "from sklearn.impute import SimpleImputer\n",
    "\n",
    "from sklearn.linear_model import LogisticRegression\n",
    "from sklearn.tree import DecisionTreeClassifier\n",
    "from sklearn.ensemble import RandomForestClassifier\n",
    "from sklearn.svm import SVC\n",
    "\n",
    "from sklearn.metrics import classification_report, confusion_matrix, roc_curve, auc\n"
   ]
  },
  {
   "cell_type": "markdown",
   "id": "d9fd6a27",
   "metadata": {},
   "source": [
    " ##### 2. Cargar Datos"
   ]
  },
  {
   "cell_type": "code",
   "execution_count": 2,
   "id": "1920a9e4",
   "metadata": {},
   "outputs": [
    {
     "data": {
      "text/html": [
       "<div>\n",
       "<style scoped>\n",
       "    .dataframe tbody tr th:only-of-type {\n",
       "        vertical-align: middle;\n",
       "    }\n",
       "\n",
       "    .dataframe tbody tr th {\n",
       "        vertical-align: top;\n",
       "    }\n",
       "\n",
       "    .dataframe thead th {\n",
       "        text-align: right;\n",
       "    }\n",
       "</style>\n",
       "<table border=\"1\" class=\"dataframe\">\n",
       "  <thead>\n",
       "    <tr style=\"text-align: right;\">\n",
       "      <th></th>\n",
       "      <th>ID_Proceso</th>\n",
       "      <th>Uso_CPU</th>\n",
       "      <th>Uso_Memoria</th>\n",
       "      <th>Numero_Hilos</th>\n",
       "      <th>Tiempo_Ejecucion</th>\n",
       "      <th>Numero_Errores</th>\n",
       "      <th>Tipo_Proceso</th>\n",
       "      <th>Estado</th>\n",
       "    </tr>\n",
       "  </thead>\n",
       "  <tbody>\n",
       "    <tr>\n",
       "      <th>0</th>\n",
       "      <td>1</td>\n",
       "      <td>37.454012</td>\n",
       "      <td>59.515562</td>\n",
       "      <td>16</td>\n",
       "      <td>8.184879</td>\n",
       "      <td>3</td>\n",
       "      <td>Aplicación</td>\n",
       "      <td>0</td>\n",
       "    </tr>\n",
       "    <tr>\n",
       "      <th>1</th>\n",
       "      <td>2</td>\n",
       "      <td>95.071431</td>\n",
       "      <td>36.471714</td>\n",
       "      <td>18</td>\n",
       "      <td>76.195256</td>\n",
       "      <td>8</td>\n",
       "      <td>Aplicación</td>\n",
       "      <td>0</td>\n",
       "    </tr>\n",
       "    <tr>\n",
       "      <th>2</th>\n",
       "      <td>3</td>\n",
       "      <td>73.199394</td>\n",
       "      <td>0.537562</td>\n",
       "      <td>21</td>\n",
       "      <td>46.991138</td>\n",
       "      <td>3</td>\n",
       "      <td>Aplicación</td>\n",
       "      <td>0</td>\n",
       "    </tr>\n",
       "    <tr>\n",
       "      <th>3</th>\n",
       "      <td>4</td>\n",
       "      <td>59.865848</td>\n",
       "      <td>56.108773</td>\n",
       "      <td>28</td>\n",
       "      <td>87.884325</td>\n",
       "      <td>4</td>\n",
       "      <td>Aplicación</td>\n",
       "      <td>0</td>\n",
       "    </tr>\n",
       "    <tr>\n",
       "      <th>4</th>\n",
       "      <td>5</td>\n",
       "      <td>15.601864</td>\n",
       "      <td>89.657041</td>\n",
       "      <td>39</td>\n",
       "      <td>4.622599</td>\n",
       "      <td>1</td>\n",
       "      <td>Sistema</td>\n",
       "      <td>0</td>\n",
       "    </tr>\n",
       "    <tr>\n",
       "      <th>5</th>\n",
       "      <td>6</td>\n",
       "      <td>15.599452</td>\n",
       "      <td>53.171690</td>\n",
       "      <td>37</td>\n",
       "      <td>87.672577</td>\n",
       "      <td>5</td>\n",
       "      <td>Aplicación</td>\n",
       "      <td>0</td>\n",
       "    </tr>\n",
       "    <tr>\n",
       "      <th>6</th>\n",
       "      <td>7</td>\n",
       "      <td>5.808361</td>\n",
       "      <td>78.048768</td>\n",
       "      <td>1</td>\n",
       "      <td>10.124474</td>\n",
       "      <td>6</td>\n",
       "      <td>Aplicación</td>\n",
       "      <td>0</td>\n",
       "    </tr>\n",
       "    <tr>\n",
       "      <th>7</th>\n",
       "      <td>8</td>\n",
       "      <td>86.617615</td>\n",
       "      <td>16.195431</td>\n",
       "      <td>21</td>\n",
       "      <td>85.005518</td>\n",
       "      <td>5</td>\n",
       "      <td>Sistema</td>\n",
       "      <td>0</td>\n",
       "    </tr>\n",
       "    <tr>\n",
       "      <th>8</th>\n",
       "      <td>9</td>\n",
       "      <td>60.111501</td>\n",
       "      <td>13.729767</td>\n",
       "      <td>1</td>\n",
       "      <td>65.493696</td>\n",
       "      <td>2</td>\n",
       "      <td>Sistema</td>\n",
       "      <td>0</td>\n",
       "    </tr>\n",
       "    <tr>\n",
       "      <th>9</th>\n",
       "      <td>10</td>\n",
       "      <td>70.807258</td>\n",
       "      <td>89.394354</td>\n",
       "      <td>41</td>\n",
       "      <td>4.172866</td>\n",
       "      <td>6</td>\n",
       "      <td>Aplicación</td>\n",
       "      <td>0</td>\n",
       "    </tr>\n",
       "  </tbody>\n",
       "</table>\n",
       "</div>"
      ],
      "text/plain": [
       "   ID_Proceso    Uso_CPU  Uso_Memoria  Numero_Hilos  Tiempo_Ejecucion  \\\n",
       "0           1  37.454012    59.515562            16          8.184879   \n",
       "1           2  95.071431    36.471714            18         76.195256   \n",
       "2           3  73.199394     0.537562            21         46.991138   \n",
       "3           4  59.865848    56.108773            28         87.884325   \n",
       "4           5  15.601864    89.657041            39          4.622599   \n",
       "5           6  15.599452    53.171690            37         87.672577   \n",
       "6           7   5.808361    78.048768             1         10.124474   \n",
       "7           8  86.617615    16.195431            21         85.005518   \n",
       "8           9  60.111501    13.729767             1         65.493696   \n",
       "9          10  70.807258    89.394354            41          4.172866   \n",
       "\n",
       "   Numero_Errores Tipo_Proceso  Estado  \n",
       "0               3   Aplicación       0  \n",
       "1               8   Aplicación       0  \n",
       "2               3   Aplicación       0  \n",
       "3               4   Aplicación       0  \n",
       "4               1      Sistema       0  \n",
       "5               5   Aplicación       0  \n",
       "6               6   Aplicación       0  \n",
       "7               5      Sistema       0  \n",
       "8               2      Sistema       0  \n",
       "9               6   Aplicación       0  "
      ]
     },
     "execution_count": 2,
     "metadata": {},
     "output_type": "execute_result"
    }
   ],
   "source": [
    "df = pd.read_csv(\"Data/datos_procesos.csv\",delimiter='|')\n",
    "df.head(10)\n"
   ]
  },
  {
   "cell_type": "code",
   "execution_count": 3,
   "id": "86ea0495",
   "metadata": {},
   "outputs": [
    {
     "name": "stdout",
     "output_type": "stream",
     "text": [
      "<class 'pandas.core.frame.DataFrame'>\n",
      "RangeIndex: 1000000 entries, 0 to 999999\n",
      "Data columns (total 8 columns):\n",
      " #   Column            Non-Null Count    Dtype  \n",
      "---  ------            --------------    -----  \n",
      " 0   ID_Proceso        1000000 non-null  int64  \n",
      " 1   Uso_CPU           1000000 non-null  float64\n",
      " 2   Uso_Memoria       1000000 non-null  float64\n",
      " 3   Numero_Hilos      1000000 non-null  int64  \n",
      " 4   Tiempo_Ejecucion  1000000 non-null  float64\n",
      " 5   Numero_Errores    1000000 non-null  int64  \n",
      " 6   Tipo_Proceso      1000000 non-null  object \n",
      " 7   Estado            1000000 non-null  int64  \n",
      "dtypes: float64(3), int64(4), object(1)\n",
      "memory usage: 61.0+ MB\n"
     ]
    }
   ],
   "source": [
    "df.info()"
   ]
  },
  {
   "cell_type": "code",
   "execution_count": 4,
   "id": "3a03832f",
   "metadata": {},
   "outputs": [
    {
     "data": {
      "text/plain": [
       "ID_Proceso            int64\n",
       "Uso_CPU             float64\n",
       "Uso_Memoria         float64\n",
       "Numero_Hilos          int64\n",
       "Tiempo_Ejecucion    float64\n",
       "Numero_Errores        int64\n",
       "Tipo_Proceso         object\n",
       "Estado                int64\n",
       "dtype: object"
      ]
     },
     "execution_count": 4,
     "metadata": {},
     "output_type": "execute_result"
    }
   ],
   "source": [
    "df.dtypes"
   ]
  },
  {
   "cell_type": "markdown",
   "id": "ed62f310",
   "metadata": {},
   "source": [
    "#### 3. Análisis Exploratorio (EDA)"
   ]
  },
  {
   "cell_type": "code",
   "execution_count": 5,
   "id": "e02771ed",
   "metadata": {},
   "outputs": [
    {
     "name": "stdout",
     "output_type": "stream",
     "text": [
      "ID_Proceso          0\n",
      "Uso_CPU             0\n",
      "Uso_Memoria         0\n",
      "Numero_Hilos        0\n",
      "Tiempo_Ejecucion    0\n",
      "Numero_Errores      0\n",
      "Tipo_Proceso        0\n",
      "Estado              0\n",
      "dtype: int64\n",
      "Duplicados: 0\n"
     ]
    }
   ],
   "source": [
    "# Verificar valores nulos y duplicados\n",
    "print(df.isnull().sum())\n",
    "print(f\"Duplicados: {df.duplicated().sum()}\")"
   ]
  },
  {
   "cell_type": "code",
   "execution_count": 6,
   "id": "7c0e8bf1",
   "metadata": {},
   "outputs": [
    {
     "data": {
      "text/html": [
       "<div>\n",
       "<style scoped>\n",
       "    .dataframe tbody tr th:only-of-type {\n",
       "        vertical-align: middle;\n",
       "    }\n",
       "\n",
       "    .dataframe tbody tr th {\n",
       "        vertical-align: top;\n",
       "    }\n",
       "\n",
       "    .dataframe thead th {\n",
       "        text-align: right;\n",
       "    }\n",
       "</style>\n",
       "<table border=\"1\" class=\"dataframe\">\n",
       "  <thead>\n",
       "    <tr style=\"text-align: right;\">\n",
       "      <th></th>\n",
       "      <th>ID_Proceso</th>\n",
       "      <th>Uso_CPU</th>\n",
       "      <th>Uso_Memoria</th>\n",
       "      <th>Numero_Hilos</th>\n",
       "      <th>Tiempo_Ejecucion</th>\n",
       "      <th>Numero_Errores</th>\n",
       "      <th>Estado</th>\n",
       "    </tr>\n",
       "  </thead>\n",
       "  <tbody>\n",
       "    <tr>\n",
       "      <th>count</th>\n",
       "      <td>1000000.000000</td>\n",
       "      <td>1000000.000000</td>\n",
       "      <td>1000000.000000</td>\n",
       "      <td>1000000.000000</td>\n",
       "      <td>1000000.000000</td>\n",
       "      <td>1000000.000000</td>\n",
       "      <td>1000000.000000</td>\n",
       "    </tr>\n",
       "    <tr>\n",
       "      <th>mean</th>\n",
       "      <td>500000.500000</td>\n",
       "      <td>50.033449</td>\n",
       "      <td>49.947866</td>\n",
       "      <td>25.030640</td>\n",
       "      <td>50.043250</td>\n",
       "      <td>5.003483</td>\n",
       "      <td>0.064631</td>\n",
       "    </tr>\n",
       "    <tr>\n",
       "      <th>std</th>\n",
       "      <td>288675.278932</td>\n",
       "      <td>28.859113</td>\n",
       "      <td>28.851514</td>\n",
       "      <td>14.150159</td>\n",
       "      <td>28.829111</td>\n",
       "      <td>2.237005</td>\n",
       "      <td>0.245874</td>\n",
       "    </tr>\n",
       "    <tr>\n",
       "      <th>min</th>\n",
       "      <td>1.000000</td>\n",
       "      <td>0.000052</td>\n",
       "      <td>0.000038</td>\n",
       "      <td>1.000000</td>\n",
       "      <td>0.100083</td>\n",
       "      <td>0.000000</td>\n",
       "      <td>0.000000</td>\n",
       "    </tr>\n",
       "    <tr>\n",
       "      <th>25%</th>\n",
       "      <td>250000.750000</td>\n",
       "      <td>25.034021</td>\n",
       "      <td>24.999623</td>\n",
       "      <td>13.000000</td>\n",
       "      <td>25.074789</td>\n",
       "      <td>3.000000</td>\n",
       "      <td>0.000000</td>\n",
       "    </tr>\n",
       "    <tr>\n",
       "      <th>50%</th>\n",
       "      <td>500000.500000</td>\n",
       "      <td>50.055597</td>\n",
       "      <td>49.895350</td>\n",
       "      <td>25.000000</td>\n",
       "      <td>50.040186</td>\n",
       "      <td>5.000000</td>\n",
       "      <td>0.000000</td>\n",
       "    </tr>\n",
       "    <tr>\n",
       "      <th>75%</th>\n",
       "      <td>750000.250000</td>\n",
       "      <td>75.009673</td>\n",
       "      <td>74.924148</td>\n",
       "      <td>37.000000</td>\n",
       "      <td>75.030119</td>\n",
       "      <td>6.000000</td>\n",
       "      <td>0.000000</td>\n",
       "    </tr>\n",
       "    <tr>\n",
       "      <th>max</th>\n",
       "      <td>1000000.000000</td>\n",
       "      <td>99.999831</td>\n",
       "      <td>99.999938</td>\n",
       "      <td>49.000000</td>\n",
       "      <td>99.999992</td>\n",
       "      <td>19.000000</td>\n",
       "      <td>1.000000</td>\n",
       "    </tr>\n",
       "  </tbody>\n",
       "</table>\n",
       "</div>"
      ],
      "text/plain": [
       "           ID_Proceso         Uso_CPU     Uso_Memoria    Numero_Hilos  \\\n",
       "count  1000000.000000  1000000.000000  1000000.000000  1000000.000000   \n",
       "mean    500000.500000       50.033449       49.947866       25.030640   \n",
       "std     288675.278932       28.859113       28.851514       14.150159   \n",
       "min          1.000000        0.000052        0.000038        1.000000   \n",
       "25%     250000.750000       25.034021       24.999623       13.000000   \n",
       "50%     500000.500000       50.055597       49.895350       25.000000   \n",
       "75%     750000.250000       75.009673       74.924148       37.000000   \n",
       "max    1000000.000000       99.999831       99.999938       49.000000   \n",
       "\n",
       "       Tiempo_Ejecucion  Numero_Errores          Estado  \n",
       "count    1000000.000000  1000000.000000  1000000.000000  \n",
       "mean          50.043250        5.003483        0.064631  \n",
       "std           28.829111        2.237005        0.245874  \n",
       "min            0.100083        0.000000        0.000000  \n",
       "25%           25.074789        3.000000        0.000000  \n",
       "50%           50.040186        5.000000        0.000000  \n",
       "75%           75.030119        6.000000        0.000000  \n",
       "max           99.999992       19.000000        1.000000  "
      ]
     },
     "execution_count": 6,
     "metadata": {},
     "output_type": "execute_result"
    }
   ],
   "source": [
    "# Estadísticas descriptivas\n",
    "df.describe()"
   ]
  },
  {
   "cell_type": "code",
   "execution_count": 7,
   "id": "bddffad6",
   "metadata": {},
   "outputs": [
    {
     "data": {
      "image/png": "[encoded data removed]",
      "text/plain": [
       "<Figure size 1200x800 with 6 Axes>"
      ]
     },
     "metadata": {},
     "output_type": "display_data"
    }
   ],
   "source": [
    "#Distribuciones numéricas\n",
    "num_cols = ['Uso_CPU', 'Uso_Memoria', 'Numero_Hilos', 'Tiempo_Ejecucion', 'Numero_Errores']\n",
    "df[num_cols].hist(figsize=(12,8))\n",
    "plt.tight_layout()\n",
    "plt.show()\n"
   ]
  },
  {
   "cell_type": "code",
   "execution_count": 8,
   "id": "9492aa99",
   "metadata": {},
   "outputs": [
    {
     "name": "stdout",
     "output_type": "stream",
     "text": [
      "Tipo_Proceso\n",
      "Servicio      334085\n",
      "Aplicación    332961\n",
      "Sistema       332954\n",
      "Name: count, dtype: int64\n"
     ]
    },
    {
     "data": {
      "text/plain": [
       "<Axes: xlabel='Tipo_Proceso', ylabel='count'>"
      ]
     },
     "execution_count": 8,
     "metadata": {},
     "output_type": "execute_result"
    },
    {
     "data": {
      "image/png": "[encoded data removed]",
      "text/plain": [
       "<Figure size 640x480 with 1 Axes>"
      ]
     },
     "metadata": {},
     "output_type": "display_data"
    }
   ],
   "source": [
    "# Frecuencia de categorías\n",
    "\n",
    "print(df['Tipo_Proceso'].value_counts())\n",
    "sns.countplot(x='Tipo_Proceso', data=df)\n"
   ]
  },
  {
   "cell_type": "markdown",
   "id": "1a252c03",
   "metadata": {},
   "source": [
    "#### 4. Preprocesamiento"
   ]
  },
  {
   "cell_type": "code",
   "execution_count": 9,
   "id": "9574ffd8",
   "metadata": {},
   "outputs": [],
   "source": [
    "# Eliminación de duplicados y manejo de nulos\n",
    "df = df.drop_duplicates()\n",
    "df = df.dropna()  # O usar imputación si se requiere\n"
   ]
  },
  {
   "cell_type": "code",
   "execution_count": 10,
   "id": "06764012",
   "metadata": {},
   "outputs": [],
   "source": [
    "# Separación de variables\n",
    "X = df.drop(columns=['ID_Proceso', 'Estado'])\n",
    "y = df['Estado']\n"
   ]
  },
  {
   "cell_type": "code",
   "execution_count": 11,
   "id": "1890b320",
   "metadata": {},
   "outputs": [],
   "source": [
    "# Columnas numéricas y categóricas\n",
    "numeric_features = ['Uso_CPU', 'Uso_Memoria', 'Numero_Hilos', 'Tiempo_Ejecucion', 'Numero_Errores']\n",
    "categorical_features = ['Tipo_Proceso']\n"
   ]
  },
  {
   "cell_type": "code",
   "execution_count": 12,
   "id": "2662c67e",
   "metadata": {},
   "outputs": [],
   "source": [
    "# Pipeline de preprocesamiento\n",
    "numeric_transformer = Pipeline(steps=[\n",
    "    ('imputer', SimpleImputer(strategy='median')),\n",
    "    ('scaler', StandardScaler())\n",
    "])\n",
    "\n",
    "categorical_transformer = Pipeline(steps=[\n",
    "    ('encoder', OneHotEncoder(drop='first'))\n",
    "])\n",
    "\n",
    "preprocessor = ColumnTransformer(\n",
    "    transformers=[\n",
    "        ('num', numeric_transformer, numeric_features),\n",
    "        ('cat', categorical_transformer, categorical_features)\n",
    "    ])\n"
   ]
  },
  {
   "cell_type": "markdown",
   "id": "67783615",
   "metadata": {},
   "source": [
    "#### 5. División del dataset"
   ]
  },
  {
   "cell_type": "code",
   "execution_count": 13,
   "id": "f37c201a",
   "metadata": {},
   "outputs": [],
   "source": [
    "X_train, X_temp, y_train, y_temp = train_test_split(X, y, test_size=0.3, random_state=42, stratify=y)\n",
    "X_val, X_test, y_val, y_test = train_test_split(X_temp, y_temp, test_size=0.5, random_state=42, stratify=y_temp)\n"
   ]
  },
  {
   "cell_type": "markdown",
   "id": "3d35e064",
   "metadata": {},
   "source": [
    "#### 6. Modelado y Evaluación"
   ]
  },
  {
   "cell_type": "code",
   "execution_count": 15,
   "id": "548e01fc",
   "metadata": {},
   "outputs": [],
   "source": [
    "models = {\n",
    "    \"Logistic Regression\": LogisticRegression(max_iter=1000),\n",
    "    \"Decision Tree\": DecisionTreeClassifier(),\n",
    "    \"Random Forest\": RandomForestClassifier(),\n",
    "    \"SVM\": SVC(probability=True)\n",
    "}\n"
   ]
  },
  {
   "cell_type": "code",
   "execution_count": null,
   "id": "246e1426",
   "metadata": {},
   "outputs": [
    {
     "name": "stdout",
     "output_type": "stream",
     "text": [
      "\n",
      "📌 Modelo: Logistic Regression\n",
      "              precision    recall  f1-score   support\n",
      "\n",
      "           0       0.97      0.99      0.98    140305\n",
      "           1       0.74      0.56      0.64      9695\n",
      "\n",
      "    accuracy                           0.96    150000\n",
      "   macro avg       0.85      0.77      0.81    150000\n",
      "weighted avg       0.95      0.96      0.96    150000\n",
      "\n",
      "\n",
      "📌 Modelo: Decision Tree\n",
      "              precision    recall  f1-score   support\n",
      "\n",
      "           0       0.97      0.97      0.97    140305\n",
      "           1       0.51      0.53      0.52      9695\n",
      "\n",
      "    accuracy                           0.94    150000\n",
      "   macro avg       0.74      0.75      0.74    150000\n",
      "weighted avg       0.94      0.94      0.94    150000\n",
      "\n",
      "\n",
      "📌 Modelo: Random Forest\n",
      "              precision    recall  f1-score   support\n",
      "\n",
      "           0       0.97      0.99      0.98    140305\n",
      "           1       0.72      0.54      0.62      9695\n",
      "\n",
      "    accuracy                           0.96    150000\n",
      "   macro avg       0.84      0.76      0.80    150000\n",
      "weighted avg       0.95      0.96      0.95    150000\n",
      "\n"
     ]
    }
   ],
   "source": [
    "#  Entrenamiento y evaluación\n",
    "for name, model in models.items():\n",
    "    clf = Pipeline(steps=[('preprocessor', preprocessor), ('classifier', model)])\n",
    "    clf.fit(X_train, y_train)\n",
    "    y_pred = clf.predict(X_val)\n",
    "    print(f\"\\n📌 Modelo: {name}\")\n",
    "    print(classification_report(y_val, y_pred))\n"
   ]
  },
  {
   "cell_type": "markdown",
   "id": "0fa41da5",
   "metadata": {},
   "source": [
    "#### 7. Curva ROC"
   ]
  },
  {
   "cell_type": "code",
   "execution_count": 14,
   "id": "b8eb74f7",
   "metadata": {},
   "outputs": [
    {
     "data": {
      "image/png": "[encoded data removed]",
      "text/plain": [
       "<Figure size 640x480 with 1 Axes>"
      ]
     },
     "metadata": {},
     "output_type": "display_data"
    }
   ],
   "source": [
    "best_model = RandomForestClassifier()\n",
    "clf = Pipeline(steps=[('preprocessor', preprocessor), ('classifier', best_model)])\n",
    "clf.fit(X_train, y_train)\n",
    "y_score = clf.predict_proba(X_test)[:, 1]\n",
    "\n",
    "fpr, tpr, _ = roc_curve(y_test, y_score)\n",
    "roc_auc = auc(fpr, tpr)\n",
    "\n",
    "plt.figure()\n",
    "plt.plot(fpr, tpr, label=f'ROC curve (AUC = {roc_auc:.2f})')\n",
    "plt.plot([0, 1], [0, 1], 'k--')\n",
    "plt.xlabel('FPR')\n",
    "plt.ylabel('TPR')\n",
    "plt.title('Curva ROC')\n",
    "plt.legend(loc='lower right')\n",
    "plt.show()\n"
   ]
  },
  {
   "cell_type": "markdown",
   "id": "2da7be93",
   "metadata": {},
   "source": [
    "#### 8. Importancia de variables"
   ]
  },
  {
   "cell_type": "code",
   "execution_count": 15,
   "id": "7891e619",
   "metadata": {},
   "outputs": [
    {
     "data": {
      "image/png": "[encoded data removed]",
      "text/plain": [
       "<Figure size 640x480 with 1 Axes>"
      ]
     },
     "metadata": {},
     "output_type": "display_data"
    }
   ],
   "source": [
    "final_model = clf.named_steps['classifier']\n",
    "importances = final_model.feature_importances_\n",
    "\n",
    "# Obtener nombres de las columnas tras el preprocesamiento\n",
    "feature_names = preprocessor.transformers_[0][2] + list(clf.named_steps['preprocessor'].transformers_[1][1].named_steps['encoder'].get_feature_names_out())\n",
    "\n",
    "imp_df = pd.DataFrame({'Feature': feature_names, 'Importance': importances})\n",
    "imp_df.sort_values(by='Importance', ascending=False, inplace=True)\n",
    "\n",
    "sns.barplot(x='Importance', y='Feature', data=imp_df)\n",
    "plt.title(\"Importancia de Variables\")\n",
    "plt.show()\n"
   ]
  },
  {
   "cell_type": "code",
   "execution_count": 16,
   "id": "5e447969",
   "metadata": {},
   "outputs": [
    {
     "data": {
      "text/plain": [
       "['modelo_procesos_servidor.pkl']"
      ]
     },
     "execution_count": 16,
     "metadata": {},
     "output_type": "execute_result"
    }
   ],
   "source": [
    "import joblib\n",
    "\n",
    "# Guarda el pipeline completo\n",
    "joblib.dump(clf, \"modelo_procesos_servidor.pkl\")\n"
   ]
  }
 ],
 "metadata": {
  "kernelspec": {
   "display_name": "Python 3",
   "language": "python",
   "name": "python3"
  },
  "language_info": {
   "codemirror_mode": {
    "name": "ipython",
    "version": 3
   },
   "file_extension": ".py",
   "mimetype": "text/x-python",
   "name": "python",
   "nbconvert_exporter": "python",
   "pygments_lexer": "ipython3",
   "version": "3.12.10"
  }
 },
 "nbformat": 4,
 "nbformat_minor": 5
}
